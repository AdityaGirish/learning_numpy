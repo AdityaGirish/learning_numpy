{
 "cells": [
  {
   "cell_type": "markdown",
   "metadata": {},
   "source": [
    "# Understanding and learning Numpy library"
   ]
  },
  {
   "cell_type": "markdown",
   "metadata": {},
   "source": [
    "Importing the Numpy library"
   ]
  },
  {
   "cell_type": "code",
   "execution_count": 1,
   "metadata": {},
   "outputs": [],
   "source": [
    "import numpy as np"
   ]
  },
  {
   "cell_type": "markdown",
   "metadata": {},
   "source": [
    "Initialising the array"
   ]
  },
  {
   "cell_type": "code",
   "execution_count": 4,
   "metadata": {},
   "outputs": [],
   "source": [
    "# 1d arrays\n",
    "a_1d = np.array([1,2,3], dtype=\"int16\")\n",
    "b_1d  = np.array([4,5,6])\n",
    "\n",
    "# 2d arrays\n",
    "c_2d = np.array([[1,2,3],[4,5,6],[7,8,9]])\n",
    "d_2d = np.array([[11,12,13],[14,15,16],[17,18,19]])\n",
    "f_2d = np.array([[1.0,2.0,3.0],[2.3,3.4,5.6]])\n",
    "\n",
    "# 3d arrays\n",
    "e_3d = np.array([[['1', '#', '#'], ['#', '#', '#'], ['#', '#', '#']],\n",
    " [['#', '#', '#'], ['#', '#', 3], ['#', '#', '#']],\n",
    " [[4.5, '#', '#'], ['#', '#', '#'], ['A', '#', '#']]])"
   ]
  },
  {
   "cell_type": "markdown",
   "metadata": {},
   "source": [
    "Getting more information about the arrays"
   ]
  },
  {
   "cell_type": "code",
   "execution_count": 70,
   "metadata": {},
   "outputs": [
    {
     "name": "stdout",
     "output_type": "stream",
     "text": [
      "Number of rowsXcolumns(r*c) in the matrix/array:\n",
      "(3,)\n",
      "(3,)\n",
      "(3, 3)\n",
      "(3, 3)\n",
      "(2, 3)\n",
      "\n",
      "The number of elements in the array:\n",
      "3\n",
      "3\n",
      "9\n",
      "9\n",
      "\n",
      "Item size/datatype size:\n",
      "2\n",
      "4\n",
      "4\n",
      "4\n",
      "128\n",
      "\n",
      "Total amount of byte size occupied in memory (that is, number of elements * size of the datatype):\n",
      "6\n",
      "6\n",
      "12\n",
      "\n",
      "Dimension of the matrix/array:\n",
      "1\n",
      "1\n",
      "2\n",
      "2\n",
      "3\n"
     ]
    }
   ],
   "source": [
    "print(\"Number of rowsXcolumns(r*c) in the matrix/array:\")\n",
    "#The \"shape\" of the array is the (rows,columns)\n",
    "print(a_1d.shape)    #here 3 columns and only 1 row so \"(3,)\"\n",
    "print(b_1d.shape)\n",
    "print(c_2d.shape)    #here 3 columns and 3 rows so \"(3,3)\"\n",
    "print(d_2d.shape)\n",
    "print(f_2d.shape)   # here 2 rows and 3 columns so (2,3)\n",
    "\n",
    "print()\n",
    "\n",
    "print(\"The number of elements in the array:\")\n",
    "print(a_1d.size)     #there are only 3 elements in the array\n",
    "print(b_1d.size)\n",
    "print(c_2d.size)     #this array has 3 rows and 3 columns so 3X3 = 9 elemnts\n",
    "print(d_2d.size)\n",
    "\n",
    "print()\n",
    "\n",
    "print(\"Item size/datatype size:\")\n",
    "print(a_1d.itemsize)     #this array is of type int = 4 bytes but since a_1d is \"dtype=int16\" the int = 2 bytes\n",
    "print(b_1d.itemsize)     #this is also type int so int = 4 bytes\n",
    "print(c_2d.itemsize)\n",
    "print(d_2d.itemsize)\n",
    "print(e_3d.itemsize)\n",
    "\n",
    "print()\n",
    "\n",
    "print(\"Total amount of byte size occupied in memory (that is, number of elements * size of the datatype):\")\n",
    "print(a_1d.size * a_1d.itemsize)    # here the size of \"a_1d\" is 2 bytes(because datatype = \"int16\") and \"a_1d\" has 3 elements so 2*3 = 6\n",
    "print(a_1d.nbytes)\n",
    "print(b_1d.nbytes)                  #here the size of \"b_1d\" is 4 bytes(because datatype = \"int32\") and \"b_1d\" has 3 elemnts so 4*3 = 12\n",
    "\n",
    "print()\n",
    "\n",
    "print(\"Dimension of the matrix/array:\")\n",
    "print(a_1d.ndim)   #\"a_1d\" is an one dimensional array since it has only 1 row and contains only columns: 3\n",
    "print(b_1d.ndim)   \n",
    "print(c_2d.ndim)   #\"c_2d\" is a two dimensional array since it contains multiple columns and multiple rows here 3 columns and 3 rows (3,3) and these 2d arrays also called as \"sheets\" : 3X3\n",
    "print(d_2d.ndim)\n",
    "print(e_3d.ndim)   #\"d_3d\" is a three dimensional array which has multiple rows, multiple columns and multiple depth(\"I'm not sure what is term after row and column so i am using the term \"depth\"), 3d arrays are also called as \"workbooks\": 3X3X3"
   ]
  },
  {
   "cell_type": "markdown",
   "metadata": {},
   "source": [
    "Arrays numericals and computation"
   ]
  },
  {
   "cell_type": "code",
   "execution_count": 57,
   "metadata": {},
   "outputs": [
    {
     "name": "stdout",
     "output_type": "stream",
     "text": [
      " a_1d + b_1d = [5 7 9] \n",
      "\n",
      "[[ 11  24  39]\n",
      " [ 56  75  96]\n",
      " [119 144 171]]\n"
     ]
    }
   ],
   "source": [
    "#simple matrix addition\n",
    "c = a_1d + b_1d\n",
    "print(f\" a_1d + b_1d = {c} \\n\")\n",
    "\n",
    "#simple matrix multiplication\n",
    "d  = c_2d * d_2d\n",
    "print(d)"
   ]
  },
  {
   "cell_type": "code",
   "execution_count": 65,
   "metadata": {},
   "outputs": [
    {
     "name": "stdout",
     "output_type": "stream",
     "text": [
      "[[ 11  24]\n",
      " [ 56  75]\n",
      " [119 144]]\n",
      "\n",
      "[[['1' '#' '#']\n",
      "  ['#' '#' '#']\n",
      "  ['#' '#' '#']]\n",
      "\n",
      " [['#' '#' '#']\n",
      "  ['#' '#' '3']\n",
      "  ['#' '#' '#']]\n",
      "\n",
      " [['4.5' '#' '#']\n",
      "  ['#' '#' '#']\n",
      "  ['A' '#' '#']]]\n"
     ]
    }
   ],
   "source": [
    "print(c_2d[:,0:2]*d_2d[:,0:2])\n",
    "print()\n",
    "print(e_3d)"
   ]
  },
  {
   "cell_type": "markdown",
   "metadata": {},
   "source": [
    "Matrix manipulation"
   ]
  },
  {
   "cell_type": "code",
   "execution_count": 12,
   "metadata": {},
   "outputs": [
    {
     "name": "stdout",
     "output_type": "stream",
     "text": [
      "[[ 1  2  3]\n",
      " [ 4 10  6]\n",
      " [ 7  8  9]]\n",
      "[[['1' '#' '#']\n",
      "  ['#' '#' '#']\n",
      "  ['#' '#' '#']]\n",
      "\n",
      " [['#' '#' '#']\n",
      "  ['#' '#' '3']\n",
      "  ['#' '#' '#']]\n",
      "\n",
      " [['4.5' '#' '#']\n",
      "  ['#' '#' '#']\n",
      "  ['A' '#' '#']]]\n",
      "102\n"
     ]
    }
   ],
   "source": [
    "#changing the 2nd row 2 column element in a matrix\n",
    "c_2d[1,1] = 10\n",
    "print(c_2d)\n",
    "\n",
    "#changing the 2nd matrix 1st row 3rd column element in a 3D array\n",
    "print(e_3d)\n",
    "e_3d[1,0,2] = 102\n",
    "print(e_3d[1,0,2])"
   ]
  },
  {
   "cell_type": "markdown",
   "metadata": {},
   "source": [
    "Initialising all types of arrays/matrix"
   ]
  },
  {
   "cell_type": "code",
   "execution_count": 24,
   "metadata": {},
   "outputs": [
    {
     "name": "stdout",
     "output_type": "stream",
     "text": [
      "[[0. 0. 0.]\n",
      " [0. 0. 0.]\n",
      " [0. 0. 0.]] \n",
      "\n",
      "[[1. 1. 1.]\n",
      " [1. 1. 1.]] \n",
      "\n",
      "[7 7 7 7 7 7 7] \n",
      "\n",
      "[[8 8 8]\n",
      " [8 8 8]\n",
      " [8 8 8]] \n",
      "\n",
      "[[0.1481571  0.26228127 0.98629248]\n",
      " [0.71913054 0.31505014 0.21138415]\n",
      " [0.89986729 0.33639481 0.28251627]] \n",
      "\n",
      "[[4 5 0]\n",
      " [0 1 4]\n",
      " [4 6 1]] \n",
      "\n",
      "[[1. 0. 0.]\n",
      " [0. 1. 0.]\n",
      " [0. 0. 1.]] \n",
      "\n",
      "[[1 2 3]\n",
      " [1 2 3]\n",
      " [1 2 3]] \n",
      "\n",
      "[[1 1 1 2 2 2 3 3 3]] \n",
      "\n"
     ]
    }
   ],
   "source": [
    "#creating a matrix/array with all zeros\n",
    "zeros_2d = np.zeros((3,3))\n",
    "\n",
    "#Creating an array/matrix with all ones\n",
    "ones_2d = np.ones((2,3))\n",
    "\n",
    "#Creating an array/matrix with desired elements(integers,strings,etc)\n",
    "full_1d = np.full((7), 7)\n",
    "#fuul_1d = np.full(a_1d.shape, 7)\n",
    "\n",
    "#creating an array/matrix of an identical shape to previously created elements \n",
    "full_like_2d = np.full_like(c_2d, 8)\n",
    "\n",
    "#creating an array/matrix of random float numbers\n",
    "rand_deci = np.random.rand(3,3)                       #gives random decimal values between 0 to 1\n",
    "#rand_deci = np.random.random_shape(c_2d)\n",
    "\n",
    "#creating an array/matrix for random integer values\n",
    "rand_int = np.random.randint(0, 10, size=(3,3))               #give random integer values between 0 to 10(10 is excluded) in the shape == size = (3,3)\n",
    "\n",
    "#creating an identity matrix\n",
    "ident_2d = np.identity(3)\n",
    "\n",
    "#creating and repeating a pattern\n",
    "arr = np.array([[1,2,3]])\n",
    "repeat_2d_vert = np.repeat(arr, 3, axis=0)\n",
    "repeat_2d_hori = np.repeat(arr, 3, axis=1)\n",
    "\n",
    "\n",
    "print(zeros_2d,\"\\n\")\n",
    "print(ones_2d, \"\\n\")\n",
    "print(full_1d, \"\\n\")\n",
    "print(full_like_2d, \"\\n\")\n",
    "print(rand_deci ,\"\\n\")\n",
    "print(rand_int ,\"\\n\")\n",
    "print(ident_2d ,\"\\n\")\n",
    "print(repeat_2d_vert ,\"\\n\")\n",
    "print(repeat_2d_hori ,\"\\n\")"
   ]
  },
  {
   "cell_type": "markdown",
   "metadata": {},
   "source": [
    "# Challange problem\n",
    "\n",
    "##### To print a matrix with a give pattern"
   ]
  },
  {
   "cell_type": "code",
   "execution_count": 30,
   "metadata": {},
   "outputs": [
    {
     "name": "stdout",
     "output_type": "stream",
     "text": [
      "[[1 1 1 1 1]\n",
      " [1 0 0 0 1]\n",
      " [1 0 9 0 1]\n",
      " [1 0 0 0 1]\n",
      " [1 1 1 1 1]]\n"
     ]
    }
   ],
   "source": [
    "chal = np.full((5,5), 1)\n",
    "chal[1:4,1:4] = 0\n",
    "chal[2,2] = 9\n",
    "print(chal)"
   ]
  },
  {
   "cell_type": "markdown",
   "metadata": {},
   "source": [
    "Copying two arrays/matrix"
   ]
  },
  {
   "cell_type": "code",
   "execution_count": 2,
   "metadata": {},
   "outputs": [
    {
     "name": "stdout",
     "output_type": "stream",
     "text": [
      "[ True  True  True]\n",
      "[False  True  True]\n"
     ]
    }
   ],
   "source": [
    "aa = np.array([1,2,3])\n",
    "bb = aa\n",
    "bb[0] = 100\n",
    "print(aa == bb)    #this make the direct copy of a and b is stored in the same memory location of a so if any changes are made to b then it will reflect in a\n",
    "\n",
    "#the right way of copying arrays/matrix\n",
    "cc = np.array([4,5,6])\n",
    "dd = cc.copy()\n",
    "dd[0] = 200\n",
    "print(cc == dd)\n"
   ]
  },
  {
   "cell_type": "markdown",
   "metadata": {},
   "source": [
    "## Mathematics"
   ]
  },
  {
   "cell_type": "markdown",
   "metadata": {},
   "source": [
    "Regular matrix mathematics"
   ]
  },
  {
   "cell_type": "code",
   "execution_count": 39,
   "metadata": {},
   "outputs": [
    {
     "name": "stdout",
     "output_type": "stream",
     "text": [
      "[102   4   5] \n",
      "\n",
      "[97 -1  0] \n",
      "\n",
      "[28 35 42] \n",
      "\n",
      "[20.   0.5  0.6] \n",
      "\n",
      "[10000     4     9] \n",
      "\n"
     ]
    }
   ],
   "source": [
    "print(aa + 2 ,\"\\n\")\n",
    "print(bb - 3 ,\"\\n\")\n",
    "print(cc * 7 ,\"\\n\")\n",
    "print(dd / 10 ,\"\\n\")\n",
    "print(bb ** 2 ,\"\\n\")"
   ]
  },
  {
   "cell_type": "markdown",
   "metadata": {},
   "source": [
    "trigonometry"
   ]
  },
  {
   "cell_type": "code",
   "execution_count": 42,
   "metadata": {},
   "outputs": [
    {
     "name": "stdout",
     "output_type": "stream",
     "text": [
      "[-0.50636564  0.90929743  0.14112001]\n",
      "[-0.58721392 -2.18503986 -0.14254654]\n"
     ]
    }
   ],
   "source": [
    "print(np.sin(aa))\n",
    "print(np.tan(aa))"
   ]
  },
  {
   "cell_type": "markdown",
   "metadata": {},
   "source": [
    "Linear Algebra"
   ]
  },
  {
   "cell_type": "code",
   "execution_count": 49,
   "metadata": {},
   "outputs": [
    {
     "name": "stdout",
     "output_type": "stream",
     "text": [
      "This operation can not be done because semantic error\n",
      "[[12 12 12 12]\n",
      " [12 12 12 12]] \n",
      "\n",
      "1.0 \n",
      "\n"
     ]
    }
   ],
   "source": [
    "aa = np.full((2,3), 2)\n",
    "bb = np.full((3,4), 2)\n",
    "\n",
    "#error handling for incorrect semantics\n",
    "try:\n",
    "    print(aa * bb)\n",
    "except:\n",
    "    print(\"This operation can not be done because semantic error\")\n",
    "\n",
    "#correct semantics\n",
    "print(np.matmul(aa,bb), \"\\n\")\n",
    "\n",
    "aa = np.identity(3)\n",
    "print(np.linalg.det(aa), \"\\n\")      #to determine the identity matrix's determinante\n"
   ]
  },
  {
   "cell_type": "markdown",
   "metadata": {},
   "source": [
    "Statistics"
   ]
  },
  {
   "cell_type": "code",
   "execution_count": null,
   "metadata": {},
   "outputs": [
    {
     "name": "stdout",
     "output_type": "stream",
     "text": [
      "1 \n",
      "\n",
      "[1 3 5] \n",
      "\n",
      "[3 5 7] \n",
      "\n",
      "4.0 \n",
      "\n",
      "4.0 \n",
      "\n",
      "36 \n",
      "\n",
      "[ 9 12 15]\n"
     ]
    }
   ],
   "source": [
    "aa = np.array([[1,2,3]])\n",
    "bb = np.repeat(aa, 3, axis= 0).copy()\n",
    "bb[1,:] = bb[1,:] + 2\n",
    "bb[2,:] = bb[2,:] + 4\n",
    "bb\n",
    "\n",
    "\n",
    "ee = np.min(bb)\n",
    "print(ee, \"\\n\")\n",
    "\n",
    "ee = np.min(bb,axis=1)\n",
    "print(ee, \"\\n\")\n",
    "\n",
    "ee = np.max(bb, axis = 1)\n",
    "print(ee, \"\\n\")\n",
    "\n",
    "ee = np.mean(bb)\n",
    "print(ee, \"\\n\")\n",
    "\n",
    "ee = np.median(bb)\n",
    "print(ee, \"\\n\")\n",
    "\n",
    "ee  = np.sum(bb)\n",
    "print(ee, \"\\n\")\n",
    "\n",
    "ee = np.sum(bb, axis = 0) #sums all the elemnts in the matrix going vertically downward\n",
    "print(ee)\n"
   ]
  },
  {
   "cell_type": "markdown",
   "metadata": {},
   "source": [
    "Reordering Matrices"
   ]
  },
  {
   "cell_type": "code",
   "execution_count": null,
   "metadata": {},
   "outputs": [
    {
     "name": "stdout",
     "output_type": "stream",
     "text": [
      "(2, 4)\n",
      "[[1 2]\n",
      " [3 4]\n",
      " [5 6]\n",
      " [7 8]] \n",
      "\n",
      "[[[1 2]\n",
      "  [3 4]]\n",
      "\n",
      " [[5 6]\n",
      "  [7 8]]]\n",
      "[[1 2 3 4]\n",
      " [5 6 7 8]]\n",
      "[1 2 3 4 5 6 7 8]\n"
     ]
    }
   ],
   "source": [
    "before = np.array([[1,2,3,4],[5,6,7,8]])\n",
    "print(before.shape)\n",
    "\n",
    "after = before.reshape((4,2))    #reshaping it into a 2D array\n",
    "print(after, \"\\n\")\n",
    "\n",
    "after = after.reshape((2,2,2))  #reshaping it into a 3D array\n",
    "print(after)\n",
    "\n",
    "after = after.repeat(3, axis=0)  #This type of repeat also works, similar to previous repeat function\n",
    "#print(after)\n",
    "\n",
    "#stacking and concatinating matrix\n",
    "v1 = np.array([1,2,3,4])\n",
    "v2 = np.array([5,6,7,8])\n",
    "print(np.vstack([v1,v2]))\n",
    "print(np.hstack([v1,v2]))\n"
   ]
  },
  {
   "cell_type": "markdown",
   "metadata": {},
   "source": [
    "### Miscellaneous and advanced features"
   ]
  },
  {
   "cell_type": "markdown",
   "metadata": {},
   "source": [
    "Loading data from files"
   ]
  },
  {
   "cell_type": "code",
   "execution_count": 50,
   "metadata": {},
   "outputs": [
    {
     "name": "stdout",
     "output_type": "stream",
     "text": [
      "[[  1.  13.  21.  11. 196.  75.   4.   3.  34.   6.   7.   8.   0.   1.\n",
      "    2.   3.   4.   5.]\n",
      " [  3.  42.  12.  33. 766.  75.   4.  55.   6.   4.   3.   4.   5.   6.\n",
      "    7.   0.  11.  12.]\n",
      " [  1.  22.  33.  11. 999.  11.   2.   1.  78.   0.   1.   2.   9.   8.\n",
      "    7.   1.  76.  88.]]\n",
      "[[  1  13  21  11 196  75   4   3  34   6   7   8   0   1   2   3   4   5]\n",
      " [  3  42  12  33 766  75   4  55   6   4   3   4   5   6   7   0  11  12]\n",
      " [  1  22  33  11 999  11   2   1  78   0   1   2   9   8   7   1  76  88]]\n"
     ]
    }
   ],
   "source": [
    "read = np.genfromtxt(\"data.txt\", delimiter=\",\")\n",
    "print(read)\n",
    "\n",
    "read = np.array(read).astype(int)\n",
    "print(read)\n",
    "\n",
    "#read = read.reshape(1,54)   #reshaping it into a 1D array\n",
    "#print(read)\n"
   ]
  },
  {
   "cell_type": "markdown",
   "metadata": {},
   "source": [
    "Advanced indexing"
   ]
  },
  {
   "cell_type": "code",
   "execution_count": 37,
   "metadata": {},
   "outputs": [
    {
     "data": {
      "text/plain": [
       "array([196,  55,  88])"
      ]
     },
     "execution_count": 37,
     "metadata": {},
     "output_type": "execute_result"
    }
   ],
   "source": [
    "arr = read[read > 50]   #all the elements above 50\n",
    "arr[[0,4,8]]            #elemnts at indices 0,4 and 8"
   ]
  },
  {
   "cell_type": "markdown",
   "metadata": {},
   "source": [
    "Boolean masking"
   ]
  },
  {
   "cell_type": "code",
   "execution_count": 65,
   "metadata": {},
   "outputs": [
    {
     "name": "stdout",
     "output_type": "stream",
     "text": [
      "[196  75 766  75  55 999  78  76  88] \n",
      "\n",
      "[False False False False  True  True False  True  True False False False\n",
      " False False False False  True  True] \n",
      "\n",
      "[ True  True  True] \n",
      "\n",
      "[False False False False  True False False False False False False False\n",
      " False False False False False False] \n",
      "\n",
      "[75 75 55 78 76 88] \n",
      "\n",
      "[ 1 13 21 11  4  3 34  6  7  8  0  1  2  3  4  5  3 42 12 33  4  6  4  3\n",
      "  4  5  6  7  0 11 12  1 22 33 11 11  2  1  0  1  2  9  8  7  1] \n",
      "\n"
     ]
    }
   ],
   "source": [
    "arr = read[read > 50]\n",
    "print(arr, \"\\n\")\n",
    "\n",
    "#for each element is in a column is there any element in the given column that it is greater than the given element(here we have used 50)\n",
    "arr = np.any(read > 50, axis=0) \n",
    "print(arr, \"\\n\")\n",
    "\n",
    "#for each elemnt in a column is there any element in the row that is greater than aa given number\n",
    "arr = np.any(read > 50, axis = 1)\n",
    "print(arr, \"\\n\")\n",
    "\n",
    "#for in each column are all the elements in the column greater than a given number\n",
    "arr = np.all(read > 50, axis = 0)\n",
    "print(arr, \"\\n\")\n",
    "\n",
    "#print(read)\n",
    "print(read[(read > 50) & (read < 100)], \"\\n\")       #elements that are greater than 50 but less than 100\n",
    "print((read[~(read > 50) & (read < 100)]), \"\\n\")     #elements that are not(\"~\") greater than 50 and less than 100\n"
   ]
  },
  {
   "cell_type": "markdown",
   "metadata": {},
   "source": [
    "### Challenge 2\n",
    "\n",
    "##### To print the diagonal elements int a given matrix"
   ]
  },
  {
   "cell_type": "code",
   "execution_count": 70,
   "metadata": {},
   "outputs": [
    {
     "name": "stdout",
     "output_type": "stream",
     "text": [
      "[[5 8 9 6 5]\n",
      " [1 2 9 2 5]\n",
      " [9 6 6 1 3]\n",
      " [8 4 9 5 3]\n",
      " [0 0 0 0 3]] \n",
      "\n",
      "Diagonal elements of the matrix arr: [5 2 6 5 3] \n",
      "\n",
      "[[0.28769399 0.8796998  0.31527476]\n",
      " [0.10945937 0.20089167 0.45835443]\n",
      " [0.7798324  0.51740306 0.73531621]] \n",
      "\n"
     ]
    }
   ],
   "source": [
    "arr = np.random.randint(0,10, size=(5,5))\n",
    "arr_1 = np.random.rand(3,3)\n",
    "print(arr, \"\\n\")\n",
    "print(\"Diagonal elements of the matrix arr:\", arr[[0,1,2,3,4],[0,1,2,3,4]], \"\\n\")\n",
    "print(arr_1, \"\\n\")"
   ]
  }
 ],
 "metadata": {
  "kernelspec": {
   "display_name": "Python 3",
   "language": "python",
   "name": "python3"
  },
  "language_info": {
   "codemirror_mode": {
    "name": "ipython",
    "version": 3
   },
   "file_extension": ".py",
   "mimetype": "text/x-python",
   "name": "python",
   "nbconvert_exporter": "python",
   "pygments_lexer": "ipython3",
   "version": "3.12.2"
  }
 },
 "nbformat": 4,
 "nbformat_minor": 2
}
